{
  "nbformat": 4,
  "nbformat_minor": 0,
  "metadata": {
    "colab": {
      "provenance": []
    },
    "kernelspec": {
      "name": "python3",
      "display_name": "Python 3"
    },
    "language_info": {
      "name": "python"
    }
  },
  "cells": [
    {
      "cell_type": "code",
      "execution_count": 2,
      "metadata": {
        "colab": {
          "base_uri": "https://localhost:8080/"
        },
        "id": "faIw-KCA55sB",
        "outputId": "621a7b47-cba8-4380-bc4e-e63281a64431"
      },
      "outputs": [
        {
          "output_type": "stream",
          "name": "stdout",
          "text": [
            "Mounted at /content/drive\n"
          ]
        }
      ],
      "source": [
        "# Mount  Google Drive\n",
        "from google.colab import drive\n",
        "drive.mount('/content/drive')"
      ]
    },
    {
      "cell_type": "code",
      "source": [
        "# 1(a). Input the string “Python” as a list of characters from console, delete at least 2 characters, reversetheresultant string, and print it.\n",
        "\n",
        "# Input string\n",
        "input_string = \"Python\"\n",
        "\n",
        "# Convert string to list of characters\n",
        "char_list = list(input_string)\n",
        "\n",
        "# Delete at least 2 characters\n",
        "char_list = char_list[:-2]\n",
        "\n",
        "# Reverse the remaining characters\n",
        "reversed_string = \"\".join(char_list[::-1])\n",
        "\n",
        "# Print the result\n",
        "print(reversed_string)\n"
      ],
      "metadata": {
        "colab": {
          "base_uri": "https://localhost:8080/"
        },
        "id": "TYPHm_7eDA3e",
        "outputId": "6dd56e35-a174-4c8a-bc91-59f3ee71a1cb"
      },
      "execution_count": 12,
      "outputs": [
        {
          "output_type": "stream",
          "name": "stdout",
          "text": [
            "htyP\n"
          ]
        }
      ]
    },
    {
      "cell_type": "code",
      "source": [
        "# 1(b). Take two numbers from user and perform at least 4 arithmetic operations on them\n",
        "\n",
        "# Take two numbers as input from the user\n",
        "n1 = float(input(\"Enter the first number: \"))\n",
        "n2 = float(input(\"Enter the second number: \"))\n",
        "\n",
        "# Perform arithmetic operations\n",
        "sum_res = n1 + n2\n",
        "sub_res = n1 - n2\n",
        "mul_res = n1 * n2\n",
        "\n",
        "# Check for division by zero\n",
        "if n2 != 0:\n",
        "    div_res = n1 / n2\n",
        "else:\n",
        "    div_res = \"Undefined (Division by zero)\"\n",
        "\n",
        "# Print the results\n",
        "print(f\"The sum of the numbers is: {sum_res}\")\n",
        "print(f\"The difference of the numbers is: {sub_res}\")\n",
        "print(f\"The product of the numbers is: {mul_res}\")\n",
        "print(f\"The division of the numbers is: {div_res}\")\n"
      ],
      "metadata": {
        "colab": {
          "base_uri": "https://localhost:8080/"
        },
        "id": "af11rTSlEOx0",
        "outputId": "04c535c6-4515-41c2-adea-f44d8989f874"
      },
      "execution_count": 6,
      "outputs": [
        {
          "output_type": "stream",
          "name": "stdout",
          "text": [
            "Enter the first number: 2\n",
            "Enter the second number: 3\n",
            "The sum of the numbers is: 5.0\n",
            "The difference of the numbers is: -1.0\n",
            "The product of the numbers is: 6.0\n",
            "The division of the numbers is: 0.6666666666666666\n"
          ]
        }
      ]
    },
    {
      "cell_type": "code",
      "source": [
        "# 2 Write a program that accepts a sentence and replace each occurrence of ‘python’ with ‘pythons’.\n",
        "\n",
        "# Take a sentence as input from the user\n",
        "sentence = input(\"Enter a sentence: \")\n",
        "\n",
        "# Replace each occurrence of 'python' with 'pythons'\n",
        "modified_sentence = sentence.replace(\"python\", \"pythons\")\n",
        "\n",
        "# Print the modified sentence\n",
        "print(\"Modified sentence:\", modified_sentence)\n"
      ],
      "metadata": {
        "colab": {
          "base_uri": "https://localhost:8080/"
        },
        "id": "23t2rX7ME3XF",
        "outputId": "a79876a9-4856-4607-edd4-aa1f423f2498"
      },
      "execution_count": 8,
      "outputs": [
        {
          "output_type": "stream",
          "name": "stdout",
          "text": [
            "Enter a sentence: I love playing with python\n",
            "Modified sentence: I love playing with pythons\n"
          ]
        }
      ]
    },
    {
      "cell_type": "code",
      "source": [
        "# 3 Use the if statement conditions to write a program to print the letter grade based on an input class score. Use the grading scheme we are using in this class.\n",
        "\n",
        "# Take a class score as input from the user\n",
        "class_score = float(input(\"Enter your class score (0 to 100): \"))\n",
        "\n",
        "# Check and print the letter grade\n",
        "if class_score >= 90.0:\n",
        "    print(\"Your letter grade is: A\")\n",
        "elif class_score >= 80.0:\n",
        "    print(\"Your letter grade is: B\")\n",
        "elif class_score >= 70.0:\n",
        "    print(\"Your letter grade is: C\")\n",
        "elif class_score >= 60.0:\n",
        "    print(\"Your letter grade is: D\")\n",
        "else:\n",
        "    print(\"Your letter grade is: F\")\n"
      ],
      "metadata": {
        "colab": {
          "base_uri": "https://localhost:8080/"
        },
        "id": "cdfzeHIZFscy",
        "outputId": "9f1c839f-8ad6-48eb-e99e-962cf6ff1b20"
      },
      "execution_count": 13,
      "outputs": [
        {
          "output_type": "stream",
          "name": "stdout",
          "text": [
            "Enter your class score (0 to 100): 70\n",
            "Your letter grade is: C\n"
          ]
        }
      ]
    }
  ]
}