{
  "nbformat": 4,
  "nbformat_minor": 0,
  "metadata": {
    "colab": {
      "provenance": []
    },
    "kernelspec": {
      "name": "python3",
      "display_name": "Python 3"
    },
    "language_info": {
      "name": "python"
    }
  },
  "cells": [
    {
      "cell_type": "code",
      "execution_count": 1,
      "metadata": {
        "colab": {
          "base_uri": "https://localhost:8080/"
        },
        "id": "cp47X7C-HMoX",
        "outputId": "cff6f655-a3ec-4fbc-9304-ee08778467b2"
      },
      "outputs": [
        {
          "output_type": "stream",
          "name": "stdout",
          "text": [
            "Mounted at /content/drive\n"
          ]
        }
      ],
      "source": [
        "# Mount  Google Drive\n",
        "from google.colab import drive\n",
        "drive.mount('/content/drive')"
      ]
    },
    {
      "cell_type": "code",
      "source": [
        "#1\n",
        "# Using NumPy create random vector of size 15 having only Integers in the range 1-20.\n",
        "# a. Reshape the array to 3 by 5.\n",
        "# b. Print array shape.\n",
        "# c. Replace the max in each row by 0\n",
        "\n",
        "import numpy as np\n",
        "\n",
        "# Creating a random vector of size 15 with integers in the range 1-20\n",
        "random_vector = np.random.randint(1, 20, size=15)\n",
        "\n",
        "# Reshaping the array to 3x5\n",
        "reshaped_array = random_vector.reshape(3, 5)\n",
        "\n",
        "# Printing array shape\n",
        "array_shape = reshaped_array.shape\n",
        "\n",
        "# Replacing the max in each row by 0\n",
        "for row in reshaped_array:\n",
        "    row[row.argmax()] = 0\n",
        "\n",
        "print(\"RESHAPED ARRAY:\\n\" , reshaped_array)\n",
        "print(\"ARRAY SHAPE:\\n\", array_shape)"
      ],
      "metadata": {
        "colab": {
          "base_uri": "https://localhost:8080/"
        },
        "id": "E1lFjZBLHoBu",
        "outputId": "1bbb1dac-faf4-4805-e746-22627feb923b"
      },
      "execution_count": 28,
      "outputs": [
        {
          "output_type": "stream",
          "name": "stdout",
          "text": [
            "RESHAPED ARRAY:\n",
            " [[ 0 17  3 11  2]\n",
            " [ 0  8 14  6 12]\n",
            " [10  1  0  7 13]]\n",
            "ARRAY SHAPE:\n",
            " (3, 5)\n"
          ]
        }
      ]
    },
    {
      "cell_type": "code",
      "source": [
        "#2\n",
        "# Create a 2-dimensional array of size 4 x 3 (composed of 4-byte integer elements), also print the shape,\n",
        "# type, and data type of the array.\n",
        "\n",
        "# Creating a 2-dimensional array of size 4x3 with 4-byte integer elements\n",
        "arr_2d = np.random.randint(1, 100, size=(4, 3), dtype=np.int32)\n",
        "\n",
        "# Printing the shape, type, and data type of the array\n",
        "arr_shape = arr_2d.shape\n",
        "arr_type = type(arr_2d)\n",
        "arr_dtype = arr_2d.dtype\n",
        "\n",
        "print(\"ARRAY:\\n\" , arr_2d)\n",
        "\n",
        "print(\"ARRAY SHAPE:\\n\",  arr_shape)\n",
        "\n",
        "print(\"ARRAY TYPE:\\n\", arr_type)\n",
        "\n",
        "print(\"ARRAY DATA TYPE:\\n\", arr_dtype)\n"
      ],
      "metadata": {
        "colab": {
          "base_uri": "https://localhost:8080/"
        },
        "id": "QSwfserhHpTg",
        "outputId": "e710c97e-ce8d-4440-f496-038575045a1b"
      },
      "execution_count": 29,
      "outputs": [
        {
          "output_type": "stream",
          "name": "stdout",
          "text": [
            "ARRAY:\n",
            " [[28 95 55]\n",
            " [66 73 42]\n",
            " [ 2 19 85]\n",
            " [15 93 14]]\n",
            "ARRAY SHAPE:\n",
            " (4, 3)\n",
            "ARRAY TYPE:\n",
            " <class 'numpy.ndarray'>\n",
            "ARRAY DATA TYPE:\n",
            " int32\n"
          ]
        }
      ]
    },
    {
      "cell_type": "code",
      "source": [
        "#3\n",
        "# Compute the sum of the diagonal element of a given array.\n",
        "# [[0 1 2]\n",
        "# [3 4 5]]\n",
        "\n",
        "# Given 2-dimensional array\n",
        "given_array = np.array([[0, 1, 2], [3, 4, 5]])\n",
        "\n",
        "# Compute the sum of the diagonal elements\n",
        "diagonal_sum = np.trace(given_array)\n",
        "\n",
        "print(\"DIAGONAL SUM:\\n\", diagonal_sum)"
      ],
      "metadata": {
        "colab": {
          "base_uri": "https://localhost:8080/"
        },
        "id": "guhSdaYjIq2S",
        "outputId": "65144fd9-bc4e-4069-d700-dcfc3851ac4a"
      },
      "execution_count": 30,
      "outputs": [
        {
          "output_type": "stream",
          "name": "stdout",
          "text": [
            "DIAGONAL SUM:\n",
            " 4\n"
          ]
        }
      ]
    },
    {
      "cell_type": "code",
      "source": [
        "#4\n",
        "# Write a NumPy code:\n",
        "# a. To create an array of odd and even numbers between 10 to 70.\n",
        "# b. To perform at-least three element-wise mathematical operations using two arrays of the same size.\n",
        "# c. To sort a given array by row and column in ascending order.\n",
        "# array = [[5.54, 3.38, 7.99],\n",
        "# [3.54, 4.38, 6.99],\n",
        "# [1.54, 2.39, 9.29]]\n",
        "\n",
        "# a. Creating an array of odd and even numbers between 10 to 70\n",
        "odd_numbers = np.arange(10, 70, 2)\n",
        "even_numbers = np.arange(10, 70, 2)\n",
        "\n",
        "# b. Creating two arrays of the same size for element-wise operations\n",
        "array1 = np.random.randint(1, 10, size=(3, 3))\n",
        "array2 = np.random.randint(1, 10, size=(3, 3))\n",
        "\n",
        "# Performing at least three element-wise mathematical operations\n",
        "elementwise_sum = array1 + array2\n",
        "elementwise_diff = array1 - array2\n",
        "elementwise_product = array1 * array2\n",
        "\n",
        "# c. Sorting the given array by row and column in ascending order\n",
        "given_array = np.array([[5.54, 3.38, 7.99],\n",
        "                        [3.54, 4.38, 6.99],\n",
        "                        [1.54, 2.39, 9.29]])\n",
        "\n",
        "# Sorting by row\n",
        "sorted_by_row = np.sort(given_array, axis=1)\n",
        "\n",
        "# Sorting by column\n",
        "sorted_by_column = np.sort(given_array, axis=0)\n",
        "\n",
        "print(\"ODD NUMBERS:\\n\", odd_numbers)\n",
        "print(\"EVEN NUMBERS:\\n\", even_numbers)\n",
        "print(\"ARRAY 1:\\n\", array1)\n",
        "print(\"ARRAY 2:\\n\", array2)\n",
        "print(\"ELEMENTWISE SUM:\\n\", elementwise_sum)\n",
        "print(\"ELEMENTWISE DIFF:\\n\", elementwise_diff)\n",
        "print(\"ELEMENTWISE PRODUCT:\\n\", elementwise_product)\n",
        "print(\"SORTED BY ROW:\\n\", sorted_by_row)\n",
        "print(\"SORTED BY COLUMN:\\n\", sorted_by_column)\n"
      ],
      "metadata": {
        "colab": {
          "base_uri": "https://localhost:8080/"
        },
        "id": "PHMUEW8uIwPV",
        "outputId": "c1f00b5e-9b97-4f48-a0fe-1072c661748b"
      },
      "execution_count": 31,
      "outputs": [
        {
          "output_type": "stream",
          "name": "stdout",
          "text": [
            "ODD NUMBERS:\n",
            " [10 12 14 16 18 20 22 24 26 28 30 32 34 36 38 40 42 44 46 48 50 52 54 56\n",
            " 58 60 62 64 66 68]\n",
            "EVEN NUMBERS:\n",
            " [10 12 14 16 18 20 22 24 26 28 30 32 34 36 38 40 42 44 46 48 50 52 54 56\n",
            " 58 60 62 64 66 68]\n",
            "ARRAY 1:\n",
            " [[4 5 8]\n",
            " [8 5 2]\n",
            " [4 3 3]]\n",
            "ARRAY 2:\n",
            " [[7 1 5]\n",
            " [7 7 6]\n",
            " [7 6 8]]\n",
            "ELEMENTWISE SUM:\n",
            " [[11  6 13]\n",
            " [15 12  8]\n",
            " [11  9 11]]\n",
            "ELEMENTWISE DIFF:\n",
            " [[-3  4  3]\n",
            " [ 1 -2 -4]\n",
            " [-3 -3 -5]]\n",
            "ELEMENTWISE PRODUCT:\n",
            " [[28  5 40]\n",
            " [56 35 12]\n",
            " [28 18 24]]\n",
            "SORTED BY ROW:\n",
            " [[3.38 5.54 7.99]\n",
            " [3.54 4.38 6.99]\n",
            " [1.54 2.39 9.29]]\n",
            "SORTED BY COLUMN:\n",
            " [[1.54 2.39 6.99]\n",
            " [3.54 3.38 7.99]\n",
            " [5.54 4.38 9.29]]\n"
          ]
        }
      ]
    },
    {
      "cell_type": "code",
      "source": [
        "#5\n",
        "# Declare an array given below using NumPy and find missing data by returning Boolean output\n",
        "# (True/False).\n",
        "# Array = [[ 4 2 nan 1]\n",
        "# [11 12 14 9]\n",
        "# [5 nan 1 nan]]\n",
        "\n",
        "# Importing NumPy and declaring the array with missing data (nan values)\n",
        "import numpy as np\n",
        "\n",
        "# Declaring the array\n",
        "given_array = np.array([[4, 2, np.nan, 1],\n",
        "                        [11, 12, 14, 9],\n",
        "                        [5, np.nan, 1, np.nan]])\n",
        "\n",
        "# Finding missing data by returning Boolean output (True for missing, False for present)\n",
        "missing_data = np.isnan(given_array)\n",
        "\n",
        "print(\"Missing Data:\\n\", missing_data)\n"
      ],
      "metadata": {
        "colab": {
          "base_uri": "https://localhost:8080/"
        },
        "id": "c3g5eaeKI3qg",
        "outputId": "e9008c22-0484-42c7-b9dc-68cc186b4c9e"
      },
      "execution_count": 32,
      "outputs": [
        {
          "output_type": "stream",
          "name": "stdout",
          "text": [
            "Missing Data:\n",
            " [[False False  True False]\n",
            " [False False False False]\n",
            " [False  True False  True]]\n"
          ]
        }
      ]
    }
  ]
}