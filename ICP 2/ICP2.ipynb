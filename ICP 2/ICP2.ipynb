{
  "nbformat": 4,
  "nbformat_minor": 0,
  "metadata": {
    "colab": {
      "provenance": []
    },
    "kernelspec": {
      "name": "python3",
      "display_name": "Python 3"
    },
    "language_info": {
      "name": "python"
    }
  },
  "cells": [
    {
      "cell_type": "code",
      "execution_count": 1,
      "metadata": {
        "colab": {
          "base_uri": "https://localhost:8080/"
        },
        "id": "FsQgu2SECs3M",
        "outputId": "8137381d-7924-429d-dd4f-a5e28656e76c"
      },
      "outputs": [
        {
          "output_type": "stream",
          "name": "stdout",
          "text": [
            "Mounted at /content/drive\n"
          ]
        }
      ],
      "source": [
        "# Mount  Google Drive\n",
        "from google.colab import drive\n",
        "drive.mount('/content/drive')"
      ]
    },
    {
      "cell_type": "code",
      "source": [
        "#1\n",
        "# The following is a list of 10 students ages:\n",
        "#ages = [19, 22, 19, 24, 20, 25, 26, 24, 25, 24]\n",
        "#• Sort the list and find the min and max age\n",
        "#• Add the min age and the max age again to the list\n",
        "#• Find the median age (one middle item or two middle items divided by two)\n",
        "#• Find the average age (sum of all items divided by their number)\n",
        "#• Find the range of the ages (max minus min)\n",
        "\n",
        "import statistics as ma\n",
        "ages = [19, 22, 19, 24, 20, 25, 26, 24, 25, 24]\n",
        "\n",
        "# Sorting the list\n",
        "ages.sort()\n",
        "\n",
        "# Finding the min and max age\n",
        "min_age = ages[0]\n",
        "max_age = ages[-1]\n",
        "print(min_age)\n",
        "print(max_age)\n",
        "\n",
        "# Adding the min age and the max age back to the list\n",
        "ages.append(min_age)\n",
        "ages.append(max_age)\n",
        "\n",
        "# Finding the median age\n",
        "print(ma.median(ages))\n",
        "\n",
        "# Finding the average age\n",
        "average_age = sum(ages) / len(ages)\n",
        "print(average_age)\n",
        "\n",
        "# Finding the range of the ages\n",
        "range_of_ages = max_age - min_age\n",
        "print(range_of_ages)\n",
        "\n"
      ],
      "metadata": {
        "colab": {
          "base_uri": "https://localhost:8080/"
        },
        "id": "xmGoF7GgC71y",
        "outputId": "6f3830c0-1460-4a69-99ad-cfb6753b4df6"
      },
      "execution_count": 9,
      "outputs": [
        {
          "output_type": "stream",
          "name": "stdout",
          "text": [
            "19\n",
            "26\n",
            "24.0\n",
            "22.75\n",
            "7\n"
          ]
        }
      ]
    },
    {
      "cell_type": "code",
      "source": [
        "#2\n",
        "#• Create an empty dictionary called dog\n",
        "#• Add name, color, breed, legs, age to the dog dictionary\n",
        "#• Create a student dictionary and add first_name, last_name, gender, age, marital status, skills, country,\n",
        "#city and address as keys for the dictionary\n",
        "#• Get the length of the student dictionary\n",
        "#• Get the value of skills and check the data type, it should be a list\n",
        "#• Modify the skills values by adding one or two skills\n",
        "#• Get the dictionary keys as a list\n",
        "#• Get the dictionary values as a list\n",
        "\n",
        "\n",
        "# Creating an empty dictionary called dog\n",
        "dog = {}\n",
        "\n",
        "# Adding name, color, breed, legs, age to the dog dictionary\n",
        "dog['name'] = 'Richie'\n",
        "dog['color'] = 'White-Gold'\n",
        "dog['breed'] = 'Shihtzu'\n",
        "dog['legs'] = 4\n",
        "dog['age'] = 2\n",
        "\n",
        "# Creating a student dictionary and add the specified keys\n",
        "student = {\n",
        "    'first_name': 'Emmaniuel Uttam',\n",
        "    'last_name': 'Dammu',\n",
        "    'gender': 'Male',\n",
        "    'age': 21,\n",
        "    'marital status': 'Single',\n",
        "    'skills': ['Python', 'JavaScript'],\n",
        "    'country': 'USA',\n",
        "    'city': 'Warrensburg',\n",
        "    'address': '1 Greenwood Circle'\n",
        "}\n",
        "\n",
        "# Getting the length of the student dictionary\n",
        "student_length = len(student)\n",
        "print(student_length)\n",
        "\n",
        "# Getting the value of skills and checking the data type\n",
        "skills_value = student['skills']\n",
        "skills_data_type = type(skills_value)\n",
        "print(skills_value)\n",
        "print(skills_data_type)\n",
        "\n",
        "# Modifying the skills values by adding one or two skills\n",
        "student['skills'].extend(['ABAP', 'Flask'])\n",
        "\n",
        "# Getting the dictionary keys as a list\n",
        "keys_list = list(student.keys())\n",
        "print(keys_list)\n",
        "\n",
        "# Getting the dictionary values as a list\n",
        "values_list = list(student.values())\n",
        "print(values_list)\n",
        "\n"
      ],
      "metadata": {
        "colab": {
          "base_uri": "https://localhost:8080/"
        },
        "id": "-UJ7GfaYDYtr",
        "outputId": "e00dbd6d-7d0b-4de0-a468-d1f7401196d1"
      },
      "execution_count": 14,
      "outputs": [
        {
          "output_type": "stream",
          "name": "stdout",
          "text": [
            "9\n",
            "['Python', 'JavaScript']\n",
            "<class 'list'>\n",
            "['first_name', 'last_name', 'gender', 'age', 'marital status', 'skills', 'country', 'city', 'address']\n",
            "['Emmaniuel Uttam', 'Dammu', 'Male', 21, 'Single', ['Python', 'JavaScript', 'ABAP', 'Flask'], 'USA', 'Warrensburg', '1 Greenwood Circle']\n"
          ]
        }
      ]
    },
    {
      "cell_type": "code",
      "source": [
        "#3\n",
        "#it_companies = {'Facebook', 'Google', 'Microsoft', 'Apple', 'IBM', 'Oracle', 'Amazon'}\n",
        "#A = {19, 22, 24, 20, 25, 26}\n",
        "#B = {19, 22, 20, 25, 26, 24, 28, 27}\n",
        "#age = [22, 19, 24, 25, 26, 24, 25, 24]\n",
        "#• Find the length of the set it_companies\n",
        "#• Add 'Twitter' to it_companies\n",
        "#• Insert multiple IT companies at once to the set it_companies\n",
        "#• Remove one of the companies from the set it_companies\n",
        "#• What is the difference between remove and discard\n",
        "#• Join A and B\n",
        "#• Find A intersection B\n",
        "#• Is A subset of B\n",
        "#• Are A and B disjoint sets\n",
        "#• Join A with B and B with A\n",
        "#• What is the symmetric difference between A and B\n",
        "#• Delete the sets completely\n",
        "#• Convert the ages to a set and compare the length of the list and the set.\n",
        "\n",
        "it_companies = {'Facebook', 'Google', 'Microsoft', 'Apple', 'IBM', 'Oracle', 'Amazon'}\n",
        "A = {19, 22, 24, 20, 25, 26}\n",
        "B = {19, 22, 20, 25, 26, 24, 28, 27}\n",
        "age = [22, 19, 24, 25, 26, 24, 25, 24]\n",
        "\n",
        "# Finding the length of the set it_companies\n",
        "print(\"Length of IT Companies:\")\n",
        "print(len(it_companies))\n",
        "print(\"\")\n",
        "\n",
        "# Adding 'Twitter' to it_companies\n",
        "it_companies.add('Twitter')\n",
        "print(\"IT Companies after adding Twitter:\")\n",
        "print(it_companies)\n",
        "print(\"\")\n",
        "\n",
        "# Inserting multiple IT companies at once to the set it_companies\n",
        "it_companies.update(['Snapchat', 'Adobe', 'Netflix'])\n",
        "print(\"IT Companies after adding multiple companies:\")\n",
        "print(it_companies)\n",
        "print(\"\")\n",
        "\n",
        "# Removing one of the companies from the set it_companies (Let's remove 'Facebook')\n",
        "it_companies.remove('Facebook')\n",
        "print(\"IT Companies after removing Facebook:\")\n",
        "print(it_companies)\n",
        "print(\"\")\n",
        "\n",
        "# Joining A and B\n",
        "union_A_B = A.union(B)\n",
        "print(\"Union of A and B:\")\n",
        "print(union_A_B)\n",
        "print(\"\")\n",
        "\n",
        "# Finding A intersection B\n",
        "intersection_A_B = A.intersection(B)\n",
        "print(\"Intersection of A and B:\")\n",
        "print(intersection_A_B)\n",
        "print(\"\")\n",
        "\n",
        "# Checking if A is a subset of B\n",
        "is_A_subset_of_B = A.issubset(B)\n",
        "print(\"Is A a subset of B?\")\n",
        "print(is_A_subset_of_B)\n",
        "print(\"\")\n",
        "\n",
        "# Checking if A and B are disjoint sets\n",
        "are_A_B_disjoint = A.isdisjoint(B)\n",
        "print(\"Are A and B disjoint sets?\")\n",
        "print(are_A_B_disjoint)\n",
        "print(\"\")\n",
        "\n",
        "# Finding the symmetric difference between A and B\n",
        "symmetric_difference_A_B = A.symmetric_difference(B)\n",
        "print(\"Symmetric difference between A and B:\")\n",
        "print(symmetric_difference_A_B)\n",
        "print(\"\")\n",
        "\n",
        "# Converting the ages to a set and compare the length\n",
        "ages_set = set(age)\n",
        "length_of_age_list = len(age)\n",
        "length_of_age_set = len(ages_set)\n",
        "print(\"Length of the age list:\")\n",
        "print(length_of_age_list)\n",
        "print(\"Length of the age set:\")\n",
        "print(length_of_age_set)\n",
        "print(\"\")\n",
        "\n",
        "# Deleting the sets\n",
        "del A\n",
        "print(\"Deleting set A:\")\n",
        "try:\n",
        "  print(A)\n",
        "except:\n",
        "  print(\"SET A IS DELETED AND CANNOT BE PRINTED\")\n",
        "print(\"\")\n",
        "\n",
        "del B\n",
        "print(\"Deleting set B:\")\n",
        "try:\n",
        "  print(B)\n",
        "except:\n",
        "  print(\"SET B IS DELETED AND CANNOT BE PRINTED\")"
      ],
      "metadata": {
        "colab": {
          "base_uri": "https://localhost:8080/"
        },
        "id": "DylcsWDDRKLf",
        "outputId": "0d51d041-2c42-4ffd-d2f4-cace82e86bad"
      },
      "execution_count": 32,
      "outputs": [
        {
          "output_type": "stream",
          "name": "stdout",
          "text": [
            "Length of IT Companies:\n",
            "7\n",
            "\n",
            "IT Companies after adding Twitter:\n",
            "{'Microsoft', 'Oracle', 'Facebook', 'Google', 'Amazon', 'Twitter', 'IBM', 'Apple'}\n",
            "\n",
            "IT Companies after adding multiple companies:\n",
            "{'Google', 'Twitter', 'IBM', 'Adobe', 'Netflix', 'Amazon', 'Microsoft', 'Facebook', 'Oracle', 'Apple', 'Snapchat'}\n",
            "\n",
            "IT Companies after removing Facebook:\n",
            "{'Google', 'Twitter', 'IBM', 'Adobe', 'Netflix', 'Amazon', 'Microsoft', 'Oracle', 'Apple', 'Snapchat'}\n",
            "\n",
            "Union of A and B:\n",
            "{19, 20, 22, 24, 25, 26, 27, 28}\n",
            "\n",
            "Intersection of A and B:\n",
            "{19, 20, 22, 24, 25, 26}\n",
            "\n",
            "Is A a subset of B?\n",
            "True\n",
            "\n",
            "Are A and B disjoint sets?\n",
            "False\n",
            "\n",
            "Symmetric difference between A and B:\n",
            "{27, 28}\n",
            "\n",
            "Length of the age list:\n",
            "8\n",
            "Length of the age set:\n",
            "5\n",
            "\n",
            "Deleting set A:\n",
            "SET A IS DELETED AND CANNOT BE PRINTED\n",
            "\n",
            "Deleting set B:\n",
            "SET B IS DELETED AND CANNOT BE PRINTED\n"
          ]
        }
      ]
    },
    {
      "cell_type": "code",
      "source": [
        "#4\n",
        "#Create a class Employee and then do the following\n",
        "#• Create a data member to count the number of Employees\n",
        "#• Create a constructor to initialize name, family, salary, department\n",
        "#• Create a function to average salary\n",
        "#• Create a Fulltime Employee class and it should inherit the properties of Employee class\n",
        "#• Create the instances of Fulltime Employee class and Employee class and call their member functions.\n",
        "\n",
        "class Employee:\n",
        "    # Data members to count the number of Employees\n",
        "    num_employees = 0\n",
        "    total_salary = 0\n",
        "\n",
        "    def __init__(self, name, family, salary, department):\n",
        "        self.name = name\n",
        "        self.family = family\n",
        "        self.salary = salary\n",
        "        self.department = department\n",
        "\n",
        "        # Incrementing the number of Employees and updating the total salary\n",
        "        Employee.num_employees += 1\n",
        "        Employee.total_salary += salary\n",
        "\n",
        "    @classmethod\n",
        "    def average_salary(cls):\n",
        "        if cls.num_employees == 0:\n",
        "            return 0\n",
        "        return cls.total_salary / cls.num_employees\n",
        "\n",
        "\n",
        "class FulltimeEmployee(Employee):\n",
        "    def __init__(self, name, family, salary, department):\n",
        "        super().__init__(name, family, salary, department)\n",
        "\n",
        "\n",
        "# Creating instances of FulltimeEmployee and Employee classes\n",
        "emp1 = Employee(\"Emmaniuel\", \"Dammu\", 50000, \"Solution Architect\")\n",
        "emp2 = Employee(\"Krypton\", \"Wayne\", 75000, \"Cloud Analyst\")\n",
        "emp3 = FulltimeEmployee(\"Tyson\", \"Ngo\", 60000, \"HR\")\n",
        "emp4 = FulltimeEmployee(\"Aspas\", \"Gira\", 100000, \"Principal Cloud Architect\")\n",
        "\n",
        "# Calling their member functions\n",
        "print(f\"Employee Count: {Employee.num_employees}\")\n",
        "print(f\"Average Salary: ${Employee.average_salary()}\")\n"
      ],
      "metadata": {
        "colab": {
          "base_uri": "https://localhost:8080/"
        },
        "id": "SmzqR_WGTLwF",
        "outputId": "2c6ce9a4-dbd2-4d21-ea65-da5b1dd141f8"
      },
      "execution_count": 37,
      "outputs": [
        {
          "output_type": "stream",
          "name": "stdout",
          "text": [
            "Employee Count: 4\n",
            "Average Salary: $71250.0\n"
          ]
        }
      ]
    }
  ]
}